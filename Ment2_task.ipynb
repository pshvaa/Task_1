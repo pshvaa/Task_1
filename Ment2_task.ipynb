{
 "cells": [
  {
   "cell_type": "code",
   "execution_count": 2,
   "id": "718cad7d",
   "metadata": {},
   "outputs": [],
   "source": [
    "import numpy as np\n",
    "import pandas as pd\n",
    "import os"
   ]
  },
  {
   "cell_type": "code",
   "execution_count": 10,
   "id": "12c89ef4",
   "metadata": {},
   "outputs": [
    {
     "name": "stdout",
     "output_type": "stream",
     "text": [
      "Enter the length of the list: 5\n",
      "()6\n",
      "()7\n",
      "()8\n",
      "()7\n",
      "()8\n",
      "[6]\n"
     ]
    }
   ],
   "source": [
    "def find_unique_elements(lst):\n",
    "    empty = []\n",
    "    for i in range(len(lst)):\n",
    "        if lst.count(lst[i]) == 1:\n",
    "            empty.append(lst[i])\n",
    "    return empty\n",
    "\n",
    "lst = []\n",
    "n = int(input(\"Enter the length of the list: \"))\n",
    "for i in range(n):\n",
    "    lst.append(int(input(())))\n",
    "print(find_unique_elements(lst))"
   ]
  },
  {
   "cell_type": "code",
   "execution_count": 16,
   "id": "3a9a0927",
   "metadata": {},
   "outputs": [
    {
     "name": "stdout",
     "output_type": "stream",
     "text": [
      "Enter the length of the list: 5\n",
      "()4\n",
      "()5\n",
      "()6\n",
      "()8\n",
      "()0\n",
      "Sum of elements in list: 18\n"
     ]
    }
   ],
   "source": [
    "def sum_even_elements(lst):\n",
    "    empty = []\n",
    "    sum_1 = 0\n",
    "    for i in lst:\n",
    "        if i % 2 == 0:\n",
    "            sum_1 += i\n",
    "    return sum_1\n",
    "\n",
    "lst = []\n",
    "num = int(input(\"Enter the length of the list: \"))\n",
    "for i in range(num):\n",
    "    lst.append(int(input(())))\n",
    "print(\"Sum of elements in list: {}\".format(sum_even_elements(lst)))"
   ]
  },
  {
   "cell_type": "code",
   "execution_count": 18,
   "id": "08d8bfa0",
   "metadata": {},
   "outputs": [],
   "source": [
    "arr = np.array([4, 6, 7, 90, 87, 78, 56])"
   ]
  },
  {
   "cell_type": "code",
   "execution_count": 21,
   "id": "05a5c07d",
   "metadata": {},
   "outputs": [
    {
     "data": {
      "text/plain": [
       "56.0"
      ]
     },
     "execution_count": 21,
     "metadata": {},
     "output_type": "execute_result"
    }
   ],
   "source": [
    "np.median(arr)"
   ]
  },
  {
   "cell_type": "code",
   "execution_count": 23,
   "id": "c0212527",
   "metadata": {},
   "outputs": [
    {
     "data": {
      "text/plain": [
       "37.07301125165457"
      ]
     },
     "execution_count": 23,
     "metadata": {},
     "output_type": "execute_result"
    }
   ],
   "source": [
    "np.std(arr)"
   ]
  },
  {
   "cell_type": "code",
   "execution_count": 25,
   "id": "c72acbaa",
   "metadata": {},
   "outputs": [
    {
     "data": {
      "text/plain": [
       "46.857142857142854"
      ]
     },
     "execution_count": 25,
     "metadata": {},
     "output_type": "execute_result"
    }
   ],
   "source": [
    "np.mean(arr)"
   ]
  },
  {
   "cell_type": "code",
   "execution_count": 41,
   "id": "12b7df92",
   "metadata": {},
   "outputs": [
    {
     "data": {
      "text/html": [
       "<div>\n",
       "<style scoped>\n",
       "    .dataframe tbody tr th:only-of-type {\n",
       "        vertical-align: middle;\n",
       "    }\n",
       "\n",
       "    .dataframe tbody tr th {\n",
       "        vertical-align: top;\n",
       "    }\n",
       "\n",
       "    .dataframe thead th {\n",
       "        text-align: right;\n",
       "    }\n",
       "</style>\n",
       "<table border=\"1\" class=\"dataframe\">\n",
       "  <thead>\n",
       "    <tr style=\"text-align: right;\">\n",
       "      <th></th>\n",
       "      <th>ID</th>\n",
       "      <th>Name</th>\n",
       "      <th>Department</th>\n",
       "      <th>Salary</th>\n",
       "      <th>Experience</th>\n",
       "    </tr>\n",
       "  </thead>\n",
       "  <tbody>\n",
       "    <tr>\n",
       "      <th>0</th>\n",
       "      <td>1</td>\n",
       "      <td>Alice</td>\n",
       "      <td>HR</td>\n",
       "      <td>NaN</td>\n",
       "      <td>NaN</td>\n",
       "    </tr>\n",
       "    <tr>\n",
       "      <th>1</th>\n",
       "      <td>2</td>\n",
       "      <td>Bob</td>\n",
       "      <td>Engineering</td>\n",
       "      <td>60000.0</td>\n",
       "      <td>3.0</td>\n",
       "    </tr>\n",
       "    <tr>\n",
       "      <th>2</th>\n",
       "      <td>3</td>\n",
       "      <td>Charlie</td>\n",
       "      <td>Marketing</td>\n",
       "      <td>55000.0</td>\n",
       "      <td>5.0</td>\n",
       "    </tr>\n",
       "  </tbody>\n",
       "</table>\n",
       "</div>"
      ],
      "text/plain": [
       "   ID     Name   Department   Salary  Experience\n",
       "0   1    Alice           HR      NaN         NaN\n",
       "1   2      Bob  Engineering  60000.0         3.0\n",
       "2   3  Charlie    Marketing  55000.0         5.0"
      ]
     },
     "execution_count": 41,
     "metadata": {},
     "output_type": "execute_result"
    }
   ],
   "source": [
    "df1 = pd.DataFrame({\n",
    "    'ID': [1, 2, 3],\n",
    "    'Name': ['Alice', 'Bob', 'Charlie'],\n",
    "    'Department': ['HR', 'Engineering', 'Marketing']\n",
    "})\n",
    "\n",
    "df2 = pd.DataFrame({\n",
    "    'ID': [2, 3, 4],\n",
    "    'Salary': [60000, 55000, 70000],\n",
    "    'Experience': [3, 5, 2]\n",
    "})\n",
    "\n",
    "left_merge = pd.merge(df1, df2, on='ID', how='left')\n",
    "left_merge\n",
    "#right_merge = pd.merge(df1, df2, on='ID', how='right')\n",
    "#inner_merge = pd.merge(df1, df2, on='ID', how='inner')\n",
    "#outer_merge = pd.merge(df1, df2, on='ID', how='outer')"
   ]
  },
  {
   "cell_type": "code",
   "execution_count": 30,
   "id": "2f9e9dac",
   "metadata": {},
   "outputs": [
    {
     "name": "stdout",
     "output_type": "stream",
     "text": [
      "Enter the length of the list: 4\n",
      "()hgfu4gfu84yf89y\n",
      "()hfgugfu\n",
      "()uur5yt8y5\n",
      "()h5guyg85yg9\n",
      "['hgfu4gfu84yf89y']\n"
     ]
    }
   ],
   "source": [
    "def find_largest_word(lst):\n",
    "    empty = []\n",
    "    lst_1 = []\n",
    "    for i in lst:\n",
    "        empty.append(len(i))\n",
    "    for i in lst:\n",
    "         if len(i) == max(empty):\n",
    "                lst_1.append(i)\n",
    "    return lst_1\n",
    "\n",
    "lst = []\n",
    "n = int(input(\"Enter the length of the list: \"))\n",
    "for i in range(n):\n",
    "    lst.append(input(()))\n",
    "print(find_largest_word(lst))"
   ]
  },
  {
   "cell_type": "code",
   "execution_count": 38,
   "id": "dbbe8a5d",
   "metadata": {},
   "outputs": [
    {
     "name": "stdout",
     "output_type": "stream",
     "text": [
      "bvfhruhgi5yg\n",
      "gy5ighurhfvb\n"
     ]
    }
   ],
   "source": [
    "def find_reverse(word):\n",
    "    str_ = \"\"\n",
    "    i = len(word) - 1\n",
    "    while i >= 0:\n",
    "        str_ += word[i]\n",
    "        i -= 1\n",
    "    return str_\n",
    "\n",
    "word = input()\n",
    "print(find_reverse(word))"
   ]
  },
  {
   "cell_type": "code",
   "execution_count": null,
   "id": "e007f38c",
   "metadata": {},
   "outputs": [],
   "source": []
  }
 ],
 "metadata": {
  "kernelspec": {
   "display_name": "Python 3 (ipykernel)",
   "language": "python",
   "name": "python3"
  },
  "language_info": {
   "codemirror_mode": {
    "name": "ipython",
    "version": 3
   },
   "file_extension": ".py",
   "mimetype": "text/x-python",
   "name": "python",
   "nbconvert_exporter": "python",
   "pygments_lexer": "ipython3",
   "version": "3.11.5"
  }
 },
 "nbformat": 4,
 "nbformat_minor": 5
}
